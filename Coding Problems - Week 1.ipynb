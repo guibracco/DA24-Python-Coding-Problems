{
 "cells": [
  {
   "cell_type": "markdown",
   "metadata": {},
   "source": [
    "# Coding Problems\n",
    "## Week 1\n",
    "\n",
    "## Arithmetic\n",
    "\n",
    "1. Create a program that reads two integers, **a** and *b*, from the user. Your program should compute and display:\n",
    "\n",
    "    a) The sum of **a** and **b**.  \n",
    "    b) The difference when **b** is subtracted from *a*.  \n",
    "    c) The product of **a** and *b*.  \n",
    "    d) The quotient when **a** is divided by *b*.  \n",
    "    e) The remainder when **a** is divided by *b*.  \n",
    "    f) The result of $log_{10}a$.  \n",
    "    g) The result of $a^b$.  \n",
    "\n",
    "\n",
    "    **Hint:** *The `math` module may contain some advanced mathematical operations. Also you can use the python inbuilt `input()` command to receive input from the user.*"
   ]
  },
  {
   "cell_type": "code",
   "execution_count": 1,
   "metadata": {},
   "outputs": [
    {
     "name": "stdout",
     "output_type": "stream",
     "text": [
      "Given a = 2 and b = 3:\n",
      "a. a + b = 5\n",
      "b. a - b = -1\n",
      "c. a * b = 6\n",
      "d. a // b = 0\n",
      "e. a % b = 2\n",
      "f. log10(a) = 0.3010299956639812\n",
      "g. a ** b = 8\n"
     ]
    }
   ],
   "source": [
    "import math\n",
    "\n",
    "# Get it.\n",
    "a = int(input(\"Enter the value of a: \"))\n",
    "b = int(input(\"Enter the value of b: \"))\n",
    "\n",
    "# Calculate it and display it.\n",
    "print(f\"Given a = {a} and b = {b}:\")\n",
    "print(\"a. a + b = \" + str(a + b))\n",
    "print(\"b. a - b = \" + str(a - b))\n",
    "print(\"c. a * b = \" + str(a * b))\n",
    "print(\"d. a // b = \" + str(a // b))\n",
    "print(\"e. a % b = \" + str(a % b))\n",
    "print(\"f. log10(a) = \" + str(math.log10(a)))\n",
    "print(\"g. a ** b = \" + str(a ** b))\n"
   ]
  },
  {
   "cell_type": "markdown",
   "metadata": {},
   "source": [
    "2. In the US, fuel efficiency for vehicles is normally expressed in miles-per-gallon (*MPG*). In Canada, fuel efficiency is normally expressed in liters-per-hundred-kilometers *(L/100 km)*. Use your research skills to determine how to convert from *MPG* to *L/100 km*. Then create a program that reads a value from the user (in American units) and displays the equivalent fuel efficiency in Canadian units."
   ]
  },
  {
   "cell_type": "code",
   "execution_count": 6,
   "metadata": {},
   "outputs": [
    {
     "name": "stdout",
     "output_type": "stream",
     "text": [
      "The given efficiency in miles per galon is 12.\n",
      "The efficiency in L/100Km is 19.60125.\n"
     ]
    }
   ],
   "source": [
    "# Get the efficiency rate and convert it.\n",
    "mpg = int(input(\"Enter the efficiency for vehicles in miles per galo: \"))\n",
    "lp100Km = 235.215 / mpg\n",
    "\n",
    "# Display it.\n",
    "print(f\"The given efficiency in miles per galon is {mpg}.\")\n",
    "print(f\"The efficiency in L/100Km is {lp100Km}.\")"
   ]
  },
  {
   "cell_type": "markdown",
   "metadata": {},
   "source": [
    "3. The surface of the earth is curved, and the distance between degrees of longitude varies with latitude. As a result, finding the distance between two points on the surface of the earth is more complicated than simply using the Pythagorean theorem. The equation for finding the distance between two points on the surface of the earth in kilometers is given by:\n",
    "\n",
    "    $distance = 6371.01 \\times arccos(sin(lat_1) \\times sin(lat_2)+cos(lat_1)\\times cos(lat_2)\\times cos(long_1-long_2))$\n",
    "\n",
    "    where: $(lat_1, long_1)$ and $(lat_2,long_2)$  are the latitude and longitude of two points on the Earth’s surface.\n",
    "        \n",
    "    Create a program that allows the user to enter the latitude and longitude of two points on the Earth in degrees. Your program should display the distance between the points in kilometers.\n",
    "        \n",
    "    Also assuming we travel using an aeroplane that is moving at a minimum speed of `740 km/h` how long will it take us to travel that distance?\n",
    "        \n",
    "    **Hint:** *Allow your program receive 4 user inputs for 4 different latitudes and longitudes on the earth. Choose any 2 locations using google maps (or google search) and get their latitude and longitude values. When printing the outputs, use the names of the locations to display the distance between locations. Longitude and latitude values are usually shown in degrees, while python usually calculates trigonometric functions using radians, therefore you will need to first convert the values to radians to use in the equation. Precedence of operations is important. Use `math` module*"
   ]
  },
  {
   "cell_type": "code",
   "execution_count": 2,
   "metadata": {},
   "outputs": [
    {
     "name": "stdout",
     "output_type": "stream",
     "text": [
      "The latitude and longitude of the 1st point is -23.533773, -46.62529.\n",
      "The latitude and longitude of the 2nd point is 59.33459100000001, 18.063240000000004.\n",
      "The distance between them is 10925.19Km.\n",
      "It will take 14:45:49 to travel that distance.\n"
     ]
    }
   ],
   "source": [
    "import math\n",
    "import time\n",
    "\n",
    "# Let's get those coordinates.\n",
    "lat1 = math.radians(float(input(\"Enter the latitude of the 1st point: \")))\n",
    "long1 = math.radians(float(input(\"Enter the liongitude of the 1st point: \")))\n",
    "lat2 = math.radians(float(input(\"Enter the latitude of the 2nd point: \")))\n",
    "long2 = math.radians(float(input(\"Enter the longitude of the 2nd point: \")))\n",
    "\n",
    "# Let's calculate the distance between them.\n",
    "dist = 6371.01 * math.acos(math.sin(lat1) * math.sin(lat2) + math.cos(lat1)* math.cos(lat2)* math.cos(long1 - long2))\n",
    "\n",
    "\n",
    "print(f\"The latitude and longitude of the 1st point is {math.degrees(lat1)}, {math.degrees(long1)}.\")\n",
    "print(f\"The latitude and longitude of the 2nd point is {math.degrees(lat2)}, {math.degrees(long2)}.\")\n",
    "print(f\"The distance between them is {round(dist,2)}Km.\")\n",
    "\n",
    "# Now for the duration of the travel, expressed in hours, minutes and seconds.\n",
    "dur = dist / 740\n",
    "print(f\"It will take {time.strftime('%H:%M:%S', time.gmtime(dur * 60 * 60))} to travel that distance.\")"
   ]
  },
  {
   "cell_type": "markdown",
   "metadata": {},
   "source": [
    "4. Distance units: Create a program that begins by reading a measurement from the user in feet. Then your program should display the equivalent distance in inches, yards and miles. Use your research skills to look up the necessary conversion factors.\n",
    "    \n",
    "    **Hint:** *Use the `input()` function, but add a little spice to it, by displaying a prompt for the user to understand they are inputting a value in feet.*"
   ]
  },
  {
   "cell_type": "code",
   "execution_count": 12,
   "metadata": {},
   "outputs": [
    {
     "name": "stdout",
     "output_type": "stream",
     "text": [
      "The given distance in feet is 3.\n",
      "The distance is 36 inches.\n",
      "The distance is 1.00 yards.\n",
      "The distance is 0.00057 miles.\n"
     ]
    }
   ],
   "source": [
    "# Get it.\n",
    "feet = int(input(\"Enter the distance in feet: \"))\n",
    "\n",
    "# Convert it.\n",
    "inches = feet * 12\n",
    "yards = feet / 3.0\n",
    "miles = feet / 5280.0\n",
    "\n",
    "# Round it and display it.\n",
    "print(f\"The given distance in feet is {feet}.\")\n",
    "print(\"The distance is %i inches.\" %inches)\n",
    "print(\"The distance is %.2f yards.\" %yards)\n",
    "print(\"The distance is %.5f miles.\" %miles)"
   ]
  },
  {
   "cell_type": "markdown",
   "metadata": {},
   "source": [
    "5. Area of a regular polygon: A polygon is regular if its sides are all the same length and the angles between all of the adjacent sides are equal. The area of a regular polygon can be computed using the following formula, where ***s*** is the length of a side and ***n*** is the number of sides.\n",
    "    \n",
    "    $\\boxed{area = \\frac {n \\times s^2} {4 \\times \\tan (\\frac{\\pi}{n})} }$\n",
    "    \n",
    "    Write a program that reads ***s*** and ***n*** from the user and then displays the area of a regular polygon constructed from these values."
   ]
  },
  {
   "cell_type": "code",
   "execution_count": 16,
   "metadata": {},
   "outputs": [
    {
     "name": "stdout",
     "output_type": "stream",
     "text": [
      "The area of the polygon is: 31.57\n"
     ]
    }
   ],
   "source": [
    "import math\n",
    "\n",
    "# Get the number and size of the sides of the polygon.\n",
    "num_sides = int(input(\"Enter the number of sides: \"))\n",
    "sides_length = float(input(\"Enter the length of each side: \"))\n",
    "\n",
    "# Calculate the area.\n",
    "area = num_sides * (sides_length ** 2) / (4 * math.tan(math.pi / num_sides))\n",
    "\n",
    "# Round it and display it.\n",
    "print(\"The area of the polygon is: %.2f\" %area) # Rounding the area due to irrationability of pi."
   ]
  },
  {
   "cell_type": "markdown",
   "metadata": {},
   "source": [
    "6. Current Time: Python has a couple of modules that can be used when working with time. This includes a module called `time` and a function/method within the `time` module called `asctime`. It reads the current time from the computer’s internal clock and returns it in a human-readable format. Write a program that displays the current time and date. Your program will not require any input from the user.\n",
    "    \n",
    "    **Hint:** *import `time` to your working environment/kernel and explore all functions within the time module.*"
   ]
  },
  {
   "cell_type": "code",
   "execution_count": 3,
   "metadata": {},
   "outputs": [
    {
     "name": "stdout",
     "output_type": "stream",
     "text": [
      "The time is:  Sun Nov 27 13:23:35 2022\n"
     ]
    }
   ],
   "source": [
    "import time\n",
    "\n",
    "print(\"The time is: \", time.asctime())"
   ]
  },
  {
   "cell_type": "markdown",
   "metadata": {},
   "source": [
    "7. Wind Chill Index: When the wind blows in cold weather, the air feels even colder that it actually is because the movement of the air increases the rate of cooling for warm objects, like people. This effect is known as wind chill.\n",
    "    \n",
    "    The formula below is used to compute the wind chill index. \n",
    "    \n",
    "    $WCI = 13.12 + 0.6215T_a - 11.37V^{0.16}+0.3965T_aV^{0.16}$\n",
    "    \n",
    "    Where: $T_a$ is the air temperature in degrees Celsius and $V$ is the wind speed in kilometers per hour. Write a program that begins by reading the air temperature and wind speed from the user. Once these values have been read, your program should display the wind chill index rounded to the closes integer.\n",
    "    \n",
    "    **Hint:** *Use the `round()` python inbuilt function to round values to a determinate number of decimal places.*"
   ]
  },
  {
   "cell_type": "code",
   "execution_count": 21,
   "metadata": {},
   "outputs": [
    {
     "name": "stdout",
     "output_type": "stream",
     "text": [
      "With a wind speed of 1.0Km/h and the temperature of 1.0°C, the wind chill index is 3.\n"
     ]
    }
   ],
   "source": [
    "import math\n",
    "\n",
    "# Get wind speed and air temperature.\n",
    "v = float(input(\"Enter ther wind speed in kilometers/hour: \"))\n",
    "t = float(input(\"Enter the air temperature in degrees Celsius: \"))\n",
    "\n",
    "# Calculate WCI.\n",
    "wci = 13.12 + 0.6215*t -  11.37*math.pow(v, 0.16) + 0.3965*t*math.pow(v, 0.16)\n",
    "\n",
    "# Round it and display it.\n",
    "print(f\"With a wind speed of {v}Km/h and the temperature of {t}°C, the wind chill index is {int(round(wci, 0))}.\")"
   ]
  },
  {
   "cell_type": "markdown",
   "metadata": {},
   "source": [
    "8. **TEASER/BONUS QUESTION:** Sum of digits in an integer: Develop a program that reads a four digit integer from the user and displays the sum of the digits in the number. For example, if the user enters 3141 then your program should display the result of the sum $3+1+4+1=9$.\n",
    "    \n",
    "    **Hint:** *Type conversion, string split operation, python sum operation.*"
   ]
  },
  {
   "cell_type": "code",
   "execution_count": 4,
   "metadata": {},
   "outputs": [
    {
     "name": "stdout",
     "output_type": "stream",
     "text": [
      "The sum of digits of 12345 is 15.\n"
     ]
    }
   ],
   "source": [
    "def sum_of_digits(n):\n",
    "# This function takes an integer as a string and slices it to sum each one of its digits.    \n",
    "    sum = 0\n",
    "    for digit in str(n): \n",
    "      sum += int(digit)      \n",
    "    return sum\n",
    "\n",
    "# Get that number.\n",
    "n = int(input(\"Enter a number: \"))\n",
    "\n",
    "# Call the function and display it, look out for a negative integer.\n",
    "print(f\"The sum of digits of {n} is {sum_of_digits(abs(n))}.\")"
   ]
  }
 ],
 "metadata": {
  "kernelspec": {
   "display_name": "Python 3.11.0 64-bit",
   "language": "python",
   "name": "python3"
  },
  "language_info": {
   "codemirror_mode": {
    "name": "ipython",
    "version": 3
   },
   "file_extension": ".py",
   "mimetype": "text/x-python",
   "name": "python",
   "nbconvert_exporter": "python",
   "pygments_lexer": "ipython3",
   "version": "3.11.0"
  },
  "orig_nbformat": 4,
  "vscode": {
   "interpreter": {
    "hash": "aee8b7b246df8f9039afb4144a1f6fd8d2ca17a180786b69acc140d282b71a49"
   }
  }
 },
 "nbformat": 4,
 "nbformat_minor": 2
}
