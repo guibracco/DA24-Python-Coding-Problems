{
 "cells": [
  {
   "cell_type": "markdown",
   "metadata": {},
   "source": [
    "# Coding Problems\n",
    "## Week 2\n",
    "\n",
    "1. Using problem 3 in week 1, write functions for the following:  \n",
    "    a. Collecting the inputs for the problem. Convert the inputs to the relevant types they should be.  \n",
    "    b. Calculating the equation given the inputs from the above.  \n",
    "    c. Printing your result in a preformatted string.\n",
    "    \n",
    "    Ensure to include a main program that reads the values from the user."
   ]
  },
  {
   "cell_type": "code",
   "execution_count": 4,
   "metadata": {},
   "outputs": [
    {
     "name": "stdout",
     "output_type": "stream",
     "text": [
      "The latitude and longitude of the 1st point is -23.533773, -46.62529.\n",
      "The latitude and longitude of the 2nd point is 59.33459100000001, 18.063240000000004.\n",
      "The distance between them is 10925.19Km.\n",
      "It will take 14:45:49 to travel that distance.\n"
     ]
    }
   ],
   "source": [
    "import math\n",
    "import time\n",
    "\n",
    "def collect():\n",
    "    lat1 = math.radians(float(input(\"Enter the latitude of the 1st point: \")))\n",
    "    long1 = math.radians(float(input(\"Enter the liongitude of the 1st point: \")))\n",
    "    lat2 = math.radians(float(input(\"Enter the latitude of the 2nd point: \")))\n",
    "    long2 = math.radians(float(input(\"Enter the longitude of the 2nd point: \")))\n",
    "    return lat1, long1, lat2, long2\n",
    "\n",
    "def calculate(lat1, long1, lat2, long2):\n",
    "    dist = 6371.01 * math.acos(math.sin(lat1) * math.sin(lat2) + math.cos(lat1)* math.cos(lat2)* math.cos(long1 - long2))\n",
    "    dur = dist / 740\n",
    "    return dist, dur\n",
    "\n",
    "def display (la1, lo1, la2, lo2, di, du):\n",
    "    print(f\"The latitude and longitude of the 1st point is {math.degrees(la1)}, {math.degrees(lo1)}.\")\n",
    "    print(f\"The latitude and longitude of the 2nd point is {math.degrees(la2)}, {math.degrees(lo2)}.\")\n",
    "    print(f\"The distance between them is {round(di,2)}Km.\")\n",
    "    print(f\"It will take {time.strftime('%H:%M:%S', time.gmtime(du * 60 * 60))} to travel that distance.\")\n",
    "\n",
    "latitde1, longitude1, latitude2, longitude2 = collect()\n",
    "distance, duration = calculate (latitde1, longitude1, latitude2, longitude2)\n",
    "display (latitde1, longitude1, latitude2, longitude2, distance, duration)"
   ]
  },
  {
   "cell_type": "markdown",
   "metadata": {},
   "source": [
    "2. Write a function that takes three numbers as parameters, and returns the mean value of those parameters as its result. Include a main program that reads three values from the user and displays their mean."
   ]
  },
  {
   "cell_type": "code",
   "execution_count": 6,
   "metadata": {},
   "outputs": [
    {
     "name": "stdout",
     "output_type": "stream",
     "text": [
      "The mean value of a, b, and c is  10.0\n"
     ]
    }
   ],
   "source": [
    "def very_mean (a, b, c):\n",
    "    return ((a + b + c) / 3)\n",
    "\n",
    "a = int(input(\"Enter a: \"))\n",
    "b = int(input(\"Enter b: \"))\n",
    "c = int(input(\"Enter c: \"))\n",
    "print (\"The mean value of a, b, and c is \", very_mean(a, b, c))"
   ]
  },
  {
   "cell_type": "markdown",
   "metadata": {},
   "source": [
    "3. Only the words: Create a program that identifies all of the words in a string entered by a user. Begin by writing a function that takes a string of text as its only parameter. Your function should return a list of the words in the string with the punctuation marks removed. Punctuation marks include commas, periods, question marks, hyphens, apostrophes, exclamation points, colons, and semicolons. \n",
    "    \n",
    "    Hint: *String Operations*"
   ]
  },
  {
   "cell_type": "code",
   "execution_count": 2,
   "metadata": {},
   "outputs": [
    {
     "name": "stdout",
     "output_type": "stream",
     "text": [
      "['The', 'quick', 'brown', 'fox', 'jumps', 'over', 'the', 'lazy', 'dog']\n"
     ]
    }
   ],
   "source": [
    "def get_words (sentence):\n",
    "    words = sentence.replace(',', ' ').replace('.', ' ').replace('?', ' ').replace('-', ' ').replace(\"'\", ' ').replace('!', ' ').replace(':', ' ').replace(';', ' ').split()\n",
    "\n",
    "    return words\n",
    "\n",
    "print(get_words(input(\"Enter your sentence: \")))"
   ]
  },
  {
   "cell_type": "markdown",
   "metadata": {},
   "source": [
    "4. Create a program that will serve as a class database and will allow users to add names and scores to the database. For each name and score that is added, print the dictionary database for the user.\n",
    "    \n",
    "    Further Work: \n",
    "    \n",
    "    1. Add an improvement to subtract scores from a given user.\n",
    "    2. Add an improvement to save the database to a local file."
   ]
  },
  {
   "cell_type": "code",
   "execution_count": 3,
   "metadata": {},
   "outputs": [
    {
     "name": "stdout",
     "output_type": "stream",
     "text": [
      "dict_keys([])\n",
      "{'Gui': 100}\n",
      "dict_keys(['Gui'])\n",
      "{'Gui': 100, 'Maria': 120}\n"
     ]
    }
   ],
   "source": [
    "dict = {}\n",
    "\n",
    "def name_and_score():\n",
    "    x = input('Please enter your name: ')\n",
    "    y = int(input('Please enter your score: '))\n",
    "\n",
    "    print(dict.keys())\n",
    "    if x in dict.keys():\n",
    "        dict[x] = dict[x] + y\n",
    "\n",
    "    else:\n",
    "          dict[x] = y\n",
    "\n",
    "    print(dict)\n",
    "\n",
    "\n",
    "while True:\n",
    "    name_and_score()"
   ]
  },
  {
   "cell_type": "markdown",
   "metadata": {},
   "source": [
    "5. A prime number is an integer greater than 1 that is only divisible by one and itself. Write a function that determines whether or not its parameter is prime, returning True if it is and False otherwise. Write a main program that reads an integer from the user and displays a message indicating whether or not it is a prime. Ensure tht the main program will not run if the file containing your solution is imported into another program."
   ]
  },
  {
   "cell_type": "code",
   "execution_count": 15,
   "metadata": {},
   "outputs": [
    {
     "name": "stdout",
     "output_type": "stream",
     "text": [
      "13 is a prime.\n"
     ]
    }
   ],
   "source": [
    "def prime(n):\n",
    "  for i in range(2,int(n/2)): # We don't need to check above n/2\n",
    "    if (n%i) == 0:\n",
    "      return False\n",
    "  return True\n",
    "\n",
    "number = int(input(\"Enter a number to check if it's a prime number: \"))\n",
    "if prime(number):\n",
    "    print(f\"{number} is a prime.\")\n",
    "else:\n",
    "    print(f\"{number} is not a prime.\")"
   ]
  }
 ],
 "metadata": {
  "kernelspec": {
   "display_name": "Python 3.11.0 64-bit",
   "language": "python",
   "name": "python3"
  },
  "language_info": {
   "codemirror_mode": {
    "name": "ipython",
    "version": 3
   },
   "file_extension": ".py",
   "mimetype": "text/x-python",
   "name": "python",
   "nbconvert_exporter": "python",
   "pygments_lexer": "ipython3",
   "version": "3.11.0"
  },
  "orig_nbformat": 4,
  "vscode": {
   "interpreter": {
    "hash": "aee8b7b246df8f9039afb4144a1f6fd8d2ca17a180786b69acc140d282b71a49"
   }
  }
 },
 "nbformat": 4,
 "nbformat_minor": 2
}
