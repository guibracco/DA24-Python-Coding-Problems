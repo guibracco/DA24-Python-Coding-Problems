{
 "cells": [
  {
   "cell_type": "markdown",
   "metadata": {},
   "source": [
    "# Coding Problems\n",
    "## Week 3 - conditions, branching and looping\n",
    "\n",
    "1. Write a program that reads an integer from the user. Then your program should display a message indicating whether the integer is even or odd and if the number is a prime or a non-prime."
   ]
  },
  {
   "cell_type": "code",
   "execution_count": 6,
   "metadata": {},
   "outputs": [
    {
     "name": "stdout",
     "output_type": "stream",
     "text": [
      "100 is even and not a prime.\n"
     ]
    }
   ],
   "source": [
    "def isEven(n):\n",
    "    if n % 2 == 0:\n",
    "        return True\n",
    "    else:\n",
    "        return False\n",
    "\n",
    "def isPrime(n):\n",
    "    for i in range(2,int(n/2)): # We don't need to check above n/2.\n",
    "        if (n%i) == 0:\n",
    "            return False\n",
    "    return True\n",
    "\n",
    "number = int(input(\"Enter an integer number: \"))\n",
    "\n",
    "even = isEven(number)\n",
    "prime = isPrime(number)\n",
    "\n",
    "if even and prime:\n",
    "    print(f\"{number} is even and a prime.\")\n",
    "elif even and not prime:\n",
    "    print(f\"{number} is even and not a prime.\")\n",
    "elif not even and prime:\n",
    "    print(f\"{number} is odd and a prime.\")\n",
    "else:\n",
    "    print(f\"{number} is odd and not a prime.\")\n"
   ]
  },
  {
   "cell_type": "markdown",
   "metadata": {},
   "source": [
    "2. A univariate quadratic function has the form $f(x)=ax^2+bx+c$, where a, b and\n",
    "c are constants, and a is non-zero. The roots of a quadratic function can be found\n",
    "by finding the values of x that satisfy the quadratic equation $ax^2 +bx+c=0$. A\n",
    "quadratic function may have 0, 1, or 2 real roots. These roots can be computed using\n",
    "the quadratic formula, shown below:\n",
    "    \n",
    "    $\\boxed{root = \\frac {-b \\pm \\sqrt {b^2 - 4ac}} {2a} }$\n",
    "    \n",
    "    The portion of the expression under the square root sign is called the discriminant.\n",
    "    If the discriminant is negative then the quadratic equation does not have any real roots.\n",
    "    If the discriminant is 0, then the equation has one real root. Otherwise, the equation\n",
    "    has two real roots, and the expression must be evaluated twice, once using a plus\n",
    "    sign, and once using a minus sign, when computing the numerator.\n",
    "    Write a program that computes the real roots of a quadratic function. Your program\n",
    "    should begin by prompting the user for the values of a, b and c. Then it should display\n",
    "    a message indicating the number of real roots, along with the values of the real roots\n",
    "    (if any)."
   ]
  },
  {
   "cell_type": "code",
   "execution_count": 3,
   "metadata": {},
   "outputs": [
    {
     "name": "stdout",
     "output_type": "stream",
     "text": [
      "For a = 1.0, b = 0.0 and c = -4.0, there are two real roots: 2.0 and -2.0.\n"
     ]
    }
   ],
   "source": [
    "import math\n",
    "\n",
    "a = 0\n",
    "while a == 0:\n",
    "    a = float(input(\"Enter the value of a: \"))\n",
    "    if a == 0:\n",
    "        print(\"The constant a must not be zero.\")\n",
    "b = float(input(\"Enter the value of b: \"))\n",
    "c = float(input(\"Enter the value of c: \"))\n",
    "\n",
    "if ((b ** 2) - (4 * a * c)) < 0:\n",
    "    print(\"There are no real roots, as Δ is negative.\")\n",
    "else:\n",
    "    delta = math.sqrt((b ** 2) - (4 * a * c))\n",
    "    x1 = (- b + delta) / (2 * a)\n",
    "    x2 = (- b - delta) / (2 * a)\n",
    "\n",
    "    if x1 == x2:\n",
    "        print(f\"There is one real root: {x1}.\")\n",
    "    else:\n",
    "        print(f\"For a = {a}, b = {b} and c = {c}, there are two real roots: {x1} and {x2}.\" )"
   ]
  },
  {
   "attachments": {},
   "cell_type": "markdown",
   "metadata": {},
   "source": [
    "3. In this exercise, you will create a program that computes the average of a collection of values entered by the user. The user will enter 0 as a sentinel value to indicate that no further values will be provided. Your program should display an appropriate error message if the first value entered by the user is 0."
   ]
  },
  {
   "cell_type": "code",
   "execution_count": 6,
   "metadata": {},
   "outputs": [
    {
     "name": "stdout",
     "output_type": "stream",
     "text": [
      "You must enter at least one number.\n",
      "The average of the numbers you entered is: 3.0.\n"
     ]
    }
   ],
   "source": [
    "# I've changed 0 to an empty string as a sentinel value because the user should be able to enter 0 while computing an average.\n",
    "\n",
    "from statistics import mean\n",
    "\n",
    "numbers = []\n",
    "n = ''\n",
    "\n",
    "while n == '':\n",
    "    n = (input(\"Enter a number: \"))\n",
    "    if n == '':\n",
    "        print(\"You must enter at least one number.\")\n",
    "\n",
    "numbers.append(float(n))\n",
    "\n",
    "while n != '':\n",
    "    n = input(\"Enter a number or hit Enter to end: \")\n",
    "    if n != '':\n",
    "        numbers.append(float(n))\n",
    "\n",
    "average = mean(numbers)\n",
    "print(f\"The average of the numbers you entered is: {average}.\")"
   ]
  },
  {
   "attachments": {},
   "cell_type": "markdown",
   "metadata": {},
   "source": [
    "4. Write a program that displays a temperature conversion table for degrees Celsius and degrees Fahrenheit. The table should include rows for all temperatures between 0 and 100 degrees Celsius which are multiples of 10 degrees Celsius. Include appropriate headings on your columns. The formula for converting between degrees Celsius and degrees Fahrenheit can be found on the internet."
   ]
  },
  {
   "cell_type": "code",
   "execution_count": 29,
   "metadata": {},
   "outputs": [
    {
     "name": "stdout",
     "output_type": "stream",
     "text": [
      "    Celsius  Fahrenheit\n",
      "0         0          32\n",
      "1        10          50\n",
      "2        20          68\n",
      "3        30          86\n",
      "4        40         104\n",
      "5        50         122\n",
      "6        60         140\n",
      "7        70         158\n",
      "8        80         176\n",
      "9        90         194\n",
      "10      100         212\n"
     ]
    }
   ],
   "source": [
    "import pandas as pd\n",
    "\n",
    "celsius = []\n",
    "fahrenheit = []\n",
    "t = 0\n",
    "\n",
    "while t <=100:\n",
    "    celsius.append(t)\n",
    "    fahrenheit.append(int(t * 9/5 + 32))\n",
    "    t +=10\n",
    "\n",
    "table = pd.DataFrame({\"Celsius\":celsius, \"Fahrenheit\":fahrenheit})\n",
    "\n",
    "print(table)"
   ]
  },
  {
   "attachments": {},
   "cell_type": "markdown",
   "metadata": {},
   "source": [
    "5. A particular zoo determines the price of admission based on the age of the guest. Guests 2 years of age and less are admitted without charge. Children between 3 and 12 years of age cost $14.00. Seniors aged 65 years and over cost $18.00. Admission for all other guests is $23.00. Create a program that begins by reading the ages of all of the guests in a group from the user, with one age entered on each line. The user will enter a blank line to indicate that there are no more guests in the group. Then your program should display the admission cost for the group with an appropriate message. The cost should be displayed using two decimal places."
   ]
  },
  {
   "cell_type": "code",
   "execution_count": null,
   "metadata": {},
   "outputs": [],
   "source": [
    "def inputAge ():\n",
    "    age = input ('Please enter your age or type \"end\" to finish: ')\n",
    "    return age\n",
    "\n",
    "# The total costs o tickets for [0-2, 3-12, 13-64, 65-]\n",
    "sumAges = [0, 0, 0, 0]\n",
    "\n"
   ]
  },
  {
   "cell_type": "code",
   "execution_count": 2,
   "metadata": {},
   "outputs": [
    {
     "name": "stdout",
     "output_type": "stream",
     "text": [
      "Welcome to the Zoo!\n",
      "Parts of the group of the ages:\n",
      "in [] pays P0.00 each,\n",
      "in [] pays P14.00 each,\n",
      "in [] pays P18.00 each,\n",
      "in [] pays P23.00 each,\n",
      "Admission Price for the whole group: P0.00\n",
      "{0: [], 14: [], 18: [], 23: []}\n"
     ]
    }
   ],
   "source": [
    "group = {0: [], 14: [], 18: [], 23: []}\n",
    "print(\"Welcome to the Zoo!\")\n",
    "\n",
    "while True:\n",
    "    try:\n",
    "        age: str = input(\"Please enter the age of the guests or press Enter to end: \")\n",
    "        if age == '':\n",
    "            break\n",
    "        age_int = int(age)\n",
    "        assert age_int > 0\n",
    "        if age_int <= 2:\n",
    "            group[0].append(age_int)\n",
    "        elif 3 <= age_int <= 12:\n",
    "            group[14].append(age_int)\n",
    "        elif age_int >= 65:\n",
    "            group[18].append(age_int)\n",
    "        else:\n",
    "            group[23].append(age_int)\n",
    "    except ValueError:\n",
    "        print(f'WARNING: you have entered: \"{age}\"')\n",
    "        print(\"WARNING: Please, enter integer or blank line to exit. Try again!\")\n",
    "    except AssertionError:\n",
    "        print(f'WARNING: you have entered: \"{age}\"')\n",
    "        print(\"WARNING: Please, enter a positive integer. Try again!\")\n",
    "\n",
    "print(\"Parts of the group of the ages:\")\n",
    "for cost in group:\n",
    "    print(f'in {group[cost]} pays P{cost:.2f} each,')\n",
    "\n",
    "price = sum([cost * len(group[cost]) for cost in group])\n",
    "print(f\"Admission Price for the whole group: P{price:.2f}\")\n",
    "\n",
    "print(group)"
   ]
  },
  {
   "cell_type": "code",
   "execution_count": null,
   "metadata": {},
   "outputs": [],
   "source": [
    "##\n",
    "# Compute the admission price for a group visiting the zoo. #\n",
    "# Let's declare the prices by age range.\n",
    "BABY_PRICE = 0.00\n",
    "CHILD_PRICE = 14.00\n",
    "ADULT_PRICE = 23.00\n",
    "SENIOR_PRICE = 18.00\n",
    "# Let's define the age limits.\n",
    "BABY_LIMIT = 2\n",
    "CHILD_LIMIT = 12\n",
    "ADULT_LIMIT = 64\n",
    "# Create a variable to hold the total admission cost for all guests\n",
    "total = 0\n",
    "# Keep on reading ages until the user enters a blank line\n",
    "line = input(\"Enter the age of the guest (blank to finish): \")\n",
    "while line != \"\":\n",
    "  age = int(line)\n",
    "# Add the correct amount to the total\n",
    "  if age <= BABY_LIMIT:\n",
    "    total = total + BABY_PRICE\n",
    "  elif age <= CHILD_LIMIT:\n",
    "    total = total + CHILD_PRICE\n",
    "  elif age <= ADULT_LIMIT:\n",
    "    total = total + ADULT_PRICE\n",
    "  else:\n",
    "    total = total + SENIOR_PRICE\n",
    "  # Read the next age from the user\n",
    "  line = input(\"Enter the age of the guest (blank to finish): \") # Display the total due for the group, formatted using two decimal places\n",
    "print(\"The total for that group is $%.2f\" % total)"
   ]
  },
  {
   "attachments": {},
   "cell_type": "markdown",
   "metadata": {},
   "source": [
    "6. Write a function that takes the lengths of the two shorter sides of a right triangle as its parameters. Return the hypotenuse of the triangle, computed using the Pythagorean theorem, as the function’s result. Include inputs that read the lengths of the shorter sides of a right triangle from the user, use your function to compute the length of the hypotenuse, and display the result."
   ]
  },
  {
   "cell_type": "code",
   "execution_count": 63,
   "metadata": {},
   "outputs": [
    {
     "name": "stdout",
     "output_type": "stream",
     "text": [
      "3.0\n",
      "0\n",
      "The size of the hypotenuse is 5.0.\n"
     ]
    }
   ],
   "source": [
    "import math\n",
    "\n",
    "def h(opp, adj):\n",
    "    return math.sqrt((opp ** 2) + (adj ** 2))\n",
    "\n",
    "b = c = 0\n",
    "\n",
    "while b == 0:\n",
    "    b = float(input(\"Enter the size of the opposite side of the right triangle: \"))\n",
    "    if b == 0:\n",
    "        print(\"The side of the triangle cannot be zero.\")\n",
    "\n",
    "while c == 0:\n",
    "    c = float(input(\"Enter the size of the adjacent side of the right triangle: \"))\n",
    "    if c == 0:\n",
    "        print(\"The side of the triangle cannot be zero.\")\n",
    "\n",
    "a = h(b, c)\n",
    "\n",
    "print(f\"The size of the hypotenuse is {a}.\")"
   ]
  },
  {
   "attachments": {},
   "cell_type": "markdown",
   "metadata": {},
   "source": [
    "7. An online retailer provides express shipping for many of its items at a rate of $10.95 for the first item, and $2.95 for each subsequent item. Write a function that takes the\n",
    "number of items in the order as its only parameter. Return the shipping charge for the order as the function’s result. Include user inputs that read the number of items purchased from the user and display the shipping charge."
   ]
  },
  {
   "cell_type": "code",
   "execution_count": 39,
   "metadata": {},
   "outputs": [
    {
     "name": "stdout",
     "output_type": "stream",
     "text": [
      "The shipping cost is $13.90.\n"
     ]
    }
   ],
   "source": [
    "def shipping(n):\n",
    "    return (round((10.95 + (n-1) * 2.95), 2))\n",
    "\n",
    "orders = int(input(\"How many items are you ordering? \"))\n",
    "print(f\"The shipping cost is ${shipping(orders):.2f}.\")"
   ]
  },
  {
   "attachments": {},
   "cell_type": "markdown",
   "metadata": {},
   "source": [
    "8. In this exercise, you will write a function that determines whether or not a password is good. We will define a good password to be one that is at least 8 characterslong and contains at least one uppercase letter, at least one lowercase letter, and at least one number. Your function should return true if the password passed to it as its only parameter is good. Otherwise, it should return false. "
   ]
  },
  {
   "cell_type": "code",
   "execution_count": 64,
   "metadata": {},
   "outputs": [],
   "source": []
  }
 ],
 "metadata": {
  "kernelspec": {
   "display_name": "Python 3.11.0 64-bit",
   "language": "python",
   "name": "python3"
  },
  "language_info": {
   "codemirror_mode": {
    "name": "ipython",
    "version": 3
   },
   "file_extension": ".py",
   "mimetype": "text/x-python",
   "name": "python",
   "nbconvert_exporter": "python",
   "pygments_lexer": "ipython3",
   "version": "3.11.1 (v3.11.1:a7a450f84a, Dec  6 2022, 15:24:06) [Clang 13.0.0 (clang-1300.0.29.30)]"
  },
  "orig_nbformat": 4,
  "vscode": {
   "interpreter": {
    "hash": "aee8b7b246df8f9039afb4144a1f6fd8d2ca17a180786b69acc140d282b71a49"
   }
  }
 },
 "nbformat": 4,
 "nbformat_minor": 2
}
